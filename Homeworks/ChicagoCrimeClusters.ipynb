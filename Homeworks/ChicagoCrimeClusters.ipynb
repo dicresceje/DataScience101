{
 "cells": [
  {
   "cell_type": "markdown",
   "metadata": {},
   "source": [
    "#### Chicago Crime Data Project\n",
    "\n",
    "https://data.cityofchicago.org/Public-Safety/Crimes-2001-to-present/ijzp-q8t2/data\n"
   ]
  },
  {
   "cell_type": "markdown",
   "metadata": {},
   "source": [
    "## Scenario\n",
    "The city of Chicago is deploying a domain awareness system.  The system is going to deploy at least 100 cameras, similar to that of New York City. Policatl leaders have decided that cameras should only be deployed in historcal crime hotspots. And cameras should only be placed in spots where it's very likely they will capture crimes. \n",
    "You work for a contractor that is tasked with running the analysis to determine the best coordinates of each camera.\n",
    "\n",
    "\n",
    "https://en.wikipedia.org/wiki/Domain_Awareness_System#/media/File:NYPD_Security_Camera.jpg\n"
   ]
  },
  {
   "cell_type": "markdown",
   "metadata": {},
   "source": [
    "### Steps \n",
    "+ Data Loading data from chicago open crime portal ( use the API to subset to crime types and time periods to make the data set a reasonable size\n",
    "\n",
    "+ Select only crime types you feel would likely be observable by camera and approprate use , subset the data accordingly\n",
    "\n",
    "+ Build and analyize at least two types of cluster models over a series of parameters, to ensure optimum number of clusters are reached and good clustering is achieved, with minium 100 cluster centers using Silhouette scores.\n",
    "\n",
    "+ When optimium clustering is found, get GPS Coordinates of each cluster allong with the aggregate counts of crimes in that cluster.\n",
    "\n",
    "### Deliverables \n",
    "+ Jupyter notebook that builds two cluster models and optimized parameters\n",
    "+ Plot of Clusters Lat and Long with Cluster Centers\n",
    "+ List of the 100 Crime Cluster locations with crime counts (using only the top 100 cluster by crime count)\n",
    "+ Estimate the coverage of the perecent of crimes that the cameras will be near. \n",
    "+ Executive summary (elevator pitch) that describes how you developed that camera locations,  inclusion / exclusion critera methodoly on crimes and ethical considerations of this approach.  \n"
   ]
  },
  {
   "cell_type": "code",
   "execution_count": 82,
   "metadata": {},
   "outputs": [
    {
     "data": {
      "text/html": [
       "<div>\n",
       "<style scoped>\n",
       "    .dataframe tbody tr th:only-of-type {\n",
       "        vertical-align: middle;\n",
       "    }\n",
       "\n",
       "    .dataframe tbody tr th {\n",
       "        vertical-align: top;\n",
       "    }\n",
       "\n",
       "    .dataframe thead th {\n",
       "        text-align: right;\n",
       "    }\n",
       "</style>\n",
       "<table border=\"1\" class=\"dataframe\">\n",
       "  <thead>\n",
       "    <tr style=\"text-align: right;\">\n",
       "      <th></th>\n",
       "      <th>ID</th>\n",
       "      <th>Case Number</th>\n",
       "      <th>Date</th>\n",
       "      <th>Block</th>\n",
       "      <th>IUCR</th>\n",
       "      <th>Primary Type</th>\n",
       "      <th>Description</th>\n",
       "      <th>Location Description</th>\n",
       "      <th>Arrest</th>\n",
       "      <th>Domestic</th>\n",
       "      <th>...</th>\n",
       "      <th>Ward</th>\n",
       "      <th>Community Area</th>\n",
       "      <th>FBI Code</th>\n",
       "      <th>X Coordinate</th>\n",
       "      <th>Y Coordinate</th>\n",
       "      <th>Year</th>\n",
       "      <th>Updated On</th>\n",
       "      <th>Latitude</th>\n",
       "      <th>Longitude</th>\n",
       "      <th>Location</th>\n",
       "    </tr>\n",
       "  </thead>\n",
       "  <tbody>\n",
       "    <tr>\n",
       "      <th>0</th>\n",
       "      <td>11583222</td>\n",
       "      <td>JC136409</td>\n",
       "      <td>12/26/2018 12:01:00 AM</td>\n",
       "      <td>044XX S RACINE AVE</td>\n",
       "      <td>1150</td>\n",
       "      <td>DECEPTIVE PRACTICE</td>\n",
       "      <td>CREDIT CARD FRAUD</td>\n",
       "      <td>OTHER</td>\n",
       "      <td>False</td>\n",
       "      <td>False</td>\n",
       "      <td>...</td>\n",
       "      <td>11.0</td>\n",
       "      <td>61.0</td>\n",
       "      <td>11</td>\n",
       "      <td>NaN</td>\n",
       "      <td>NaN</td>\n",
       "      <td>2018</td>\n",
       "      <td>02/02/2019 04:07:45 PM</td>\n",
       "      <td>NaN</td>\n",
       "      <td>NaN</td>\n",
       "      <td>NaN</td>\n",
       "    </tr>\n",
       "  </tbody>\n",
       "</table>\n",
       "<p>1 rows × 22 columns</p>\n",
       "</div>"
      ],
      "text/plain": [
       "         ID Case Number                    Date               Block  IUCR  \\\n",
       "0  11583222    JC136409  12/26/2018 12:01:00 AM  044XX S RACINE AVE  1150   \n",
       "\n",
       "         Primary Type        Description Location Description  Arrest  \\\n",
       "0  DECEPTIVE PRACTICE  CREDIT CARD FRAUD                OTHER   False   \n",
       "\n",
       "   Domestic  ...  Ward  Community Area  FBI Code  X Coordinate Y Coordinate  \\\n",
       "0     False  ...  11.0            61.0        11           NaN          NaN   \n",
       "\n",
       "   Year              Updated On  Latitude Longitude  Location  \n",
       "0  2018  02/02/2019 04:07:45 PM       NaN       NaN       NaN  \n",
       "\n",
       "[1 rows x 22 columns]"
      ]
     },
     "execution_count": 82,
     "metadata": {},
     "output_type": "execute_result"
    }
   ],
   "source": [
    "# load in data\n",
    "import pandas as pd\n",
    "file_name = 'data/Crimes_-_2018.csv'\n",
    "data = pd.read_csv(file_name)\n",
    "data.head(1)"
   ]
  }
 ],
 "metadata": {
  "kernelspec": {
   "display_name": "Python 3",
   "language": "python",
   "name": "python3"
  },
  "language_info": {
   "codemirror_mode": {
    "name": "ipython",
    "version": 3
   },
   "file_extension": ".py",
   "mimetype": "text/x-python",
   "name": "python",
   "nbconvert_exporter": "python",
   "pygments_lexer": "ipython3",
   "version": "3.6.9"
  }
 },
 "nbformat": 4,
 "nbformat_minor": 1
}
