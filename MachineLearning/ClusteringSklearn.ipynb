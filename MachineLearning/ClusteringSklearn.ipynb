{
 "cells": [
  {
   "cell_type": "markdown",
   "metadata": {
    "collapsed": true
   },
   "source": [
    "## Using Chicago Open Data Portal\n",
    "download data Car Crahses\n",
    "\n",
    "https://data.cityofchicago.org/Public-Safety/Crimes-2018/3i3m-jwuy\n",
    "\n",
    "* export button, save as a csv file.\n",
    "\n",
    "## Objective where the worst place to park in Chicago.\n",
    "+ to learning basic sci kit learn preprocessing\n",
    "+ learn k means clustering\n",
    "+ to install run from command prompt 'pip install scikit-learn'\n",
    "+ to learn standard data science work flow\n"
   ]
  },
  {
   "cell_type": "code",
   "execution_count": 53,
   "metadata": {},
   "outputs": [],
   "source": [
    "# after you have downloaded data, load it into pytho\n",
    "import pandas as pd \n",
    "from collections import Counter\n",
    "from sklearn.preprocessing import StandardScaler\n",
    "from sklearn.pipeline import Pipeline\n",
    "from sklearn.compose import ColumnTransformer\n",
    "from sklearn.cluster import KMeans\n",
    "import numpy as np\n",
    "\n",
    "#suppres science notation\n",
    "pd.set_option('display.float_format', lambda x: '%.5f' % x)\n",
    "file_path = '../data/Crimes_-_2018.csv'\n",
    "data = pd.read_csv(file_path)\n",
    "\n",
    "data = data.sample(10000)\n",
    "# if you are unsure where the file is\n",
    "# import os\n",
    "# os.listdir() # lists files in the working directory where python is."
   ]
  },
  {
   "cell_type": "code",
   "execution_count": 54,
   "metadata": {},
   "outputs": [
    {
     "name": "stdout",
     "output_type": "stream",
     "text": [
      "(10000, 22)\n",
      "                  ID        Beat    District        Ward  Community Area  \\\n",
      "count    10000.00000 10000.00000 10000.00000 10000.00000     10000.00000   \n",
      "mean  11363467.20280  1145.31780    11.22340    23.58870        36.58540   \n",
      "std     407486.84858   698.70808     6.97822    14.15662        21.62111   \n",
      "min      23818.00000   111.00000     1.00000     1.00000         1.00000   \n",
      "25%   11286701.50000   612.00000     6.00000    10.00000        22.00000   \n",
      "50%   11375692.00000  1024.00000    10.00000    24.00000        32.00000   \n",
      "75%   11463987.50000  1723.00000    17.00000    35.00000        54.00000   \n",
      "max   11978125.00000  2535.00000    25.00000    50.00000        77.00000   \n",
      "\n",
      "       X Coordinate  Y Coordinate        Year   Latitude  Longitude  \n",
      "count    9827.00000    9827.00000 10000.00000 9827.00000 9827.00000  \n",
      "mean  1165005.47563 1886809.46657  2018.00000   41.84499  -87.66998  \n",
      "std     16049.86715   31329.73548     0.00000    0.08615    0.05844  \n",
      "min   1099989.00000 1814354.00000  2018.00000   41.64584  -87.90777  \n",
      "25%   1153223.00000 1859661.50000  2018.00000   41.77046  -87.71268  \n",
      "50%   1166897.00000 1894141.00000  2018.00000   41.86540  -87.66343  \n",
      "75%   1176436.00000 1909302.50000  2018.00000   41.90683  -87.62784  \n",
      "max   1204544.00000 1951492.00000  2018.00000   42.02253  -87.52726  \n"
     ]
    },
    {
     "data": {
      "text/plain": [
       "Index(['ID', 'Case Number', 'Date', 'Block', 'IUCR', 'Primary Type',\n",
       "       'Description', 'Location Description', 'Arrest', 'Domestic', 'Beat',\n",
       "       'District', 'Ward', 'Community Area', 'FBI Code', 'X Coordinate',\n",
       "       'Y Coordinate', 'Year', 'Updated On', 'Latitude', 'Longitude',\n",
       "       'Location'],\n",
       "      dtype='object')"
      ]
     },
     "execution_count": 54,
     "metadata": {},
     "output_type": "execute_result"
    }
   ],
   "source": [
    "# generally desribe the data\n",
    "print(data.shape)\n",
    "print(data.describe())\n",
    "data.columns"
   ]
  },
  {
   "cell_type": "code",
   "execution_count": 55,
   "metadata": {},
   "outputs": [
    {
     "data": {
      "text/plain": [
       "{'ARSON',\n",
       " 'ASSAULT',\n",
       " 'BATTERY',\n",
       " 'BURGLARY',\n",
       " 'CONCEALED CARRY LICENSE VIOLATION',\n",
       " 'CRIM SEXUAL ASSAULT',\n",
       " 'CRIMINAL DAMAGE',\n",
       " 'CRIMINAL TRESPASS',\n",
       " 'DECEPTIVE PRACTICE',\n",
       " 'GAMBLING',\n",
       " 'HOMICIDE',\n",
       " 'INTERFERENCE WITH PUBLIC OFFICER',\n",
       " 'INTIMIDATION',\n",
       " 'KIDNAPPING',\n",
       " 'LIQUOR LAW VIOLATION',\n",
       " 'MOTOR VEHICLE THEFT',\n",
       " 'NARCOTICS',\n",
       " 'NON-CRIMINAL',\n",
       " 'OBSCENITY',\n",
       " 'OFFENSE INVOLVING CHILDREN',\n",
       " 'OTHER OFFENSE',\n",
       " 'PROSTITUTION',\n",
       " 'PUBLIC PEACE VIOLATION',\n",
       " 'ROBBERY',\n",
       " 'SEX OFFENSE',\n",
       " 'STALKING',\n",
       " 'THEFT',\n",
       " 'WEAPONS VIOLATION'}"
      ]
     },
     "execution_count": 55,
     "metadata": {},
     "output_type": "execute_result"
    }
   ],
   "source": [
    "# find what types of crime are in the dat set\n",
    "set(data['Primary Type'])"
   ]
  },
  {
   "cell_type": "code",
   "execution_count": 56,
   "metadata": {},
   "outputs": [
    {
     "name": "stdout",
     "output_type": "stream",
     "text": [
      "(10000, 22)\n",
      "(350, 2)\n"
     ]
    }
   ],
   "source": [
    "# filter the data set down to only \n",
    "\n",
    "data_filtered = data.loc[data['Primary Type'] == 'MOTOR VEHICLE THEFT', ['Latitude','Longitude']]\n",
    "print(data.shape)\n",
    "print(data_filtered.shape)"
   ]
  },
  {
   "cell_type": "code",
   "execution_count": 57,
   "metadata": {},
   "outputs": [
    {
     "data": {
      "text/html": [
       "<div>\n",
       "<style scoped>\n",
       "    .dataframe tbody tr th:only-of-type {\n",
       "        vertical-align: middle;\n",
       "    }\n",
       "\n",
       "    .dataframe tbody tr th {\n",
       "        vertical-align: top;\n",
       "    }\n",
       "\n",
       "    .dataframe thead th {\n",
       "        text-align: right;\n",
       "    }\n",
       "</style>\n",
       "<table border=\"1\" class=\"dataframe\">\n",
       "  <thead>\n",
       "    <tr style=\"text-align: right;\">\n",
       "      <th></th>\n",
       "      <th>ID</th>\n",
       "      <th>Case Number</th>\n",
       "      <th>Date</th>\n",
       "      <th>Block</th>\n",
       "      <th>IUCR</th>\n",
       "      <th>Primary Type</th>\n",
       "      <th>Description</th>\n",
       "      <th>Location Description</th>\n",
       "      <th>Arrest</th>\n",
       "      <th>Domestic</th>\n",
       "      <th>Beat</th>\n",
       "      <th>District</th>\n",
       "      <th>Ward</th>\n",
       "      <th>Community Area</th>\n",
       "      <th>FBI Code</th>\n",
       "      <th>X Coordinate</th>\n",
       "      <th>Y Coordinate</th>\n",
       "      <th>Year</th>\n",
       "      <th>Updated On</th>\n",
       "      <th>Latitude</th>\n",
       "      <th>Longitude</th>\n",
       "      <th>Location</th>\n",
       "    </tr>\n",
       "  </thead>\n",
       "  <tbody>\n",
       "    <tr>\n",
       "      <th>28901</th>\n",
       "      <td>11226690</td>\n",
       "      <td>JB146279</td>\n",
       "      <td>02/09/2018 09:22:00 AM</td>\n",
       "      <td>053XX N WESTERN AVE</td>\n",
       "      <td>1563</td>\n",
       "      <td>SEX OFFENSE</td>\n",
       "      <td>CRIMINAL SEXUAL ABUSE</td>\n",
       "      <td>NURSING HOME/RETIREMENT HOME</td>\n",
       "      <td>True</td>\n",
       "      <td>False</td>\n",
       "      <td>2011</td>\n",
       "      <td>20</td>\n",
       "      <td>40.00000</td>\n",
       "      <td>4.00000</td>\n",
       "      <td>17</td>\n",
       "      <td>1159379.00000</td>\n",
       "      <td>1935412.00000</td>\n",
       "      <td>2018</td>\n",
       "      <td>05/04/2018 03:51:04 PM</td>\n",
       "      <td>41.97850</td>\n",
       "      <td>-87.68925</td>\n",
       "      <td>(41.978495324, -87.689251423)</td>\n",
       "    </tr>\n",
       "    <tr>\n",
       "      <th>94529</th>\n",
       "      <td>11318002</td>\n",
       "      <td>JB267160</td>\n",
       "      <td>05/17/2018 11:15:00 AM</td>\n",
       "      <td>029XX S STATE ST</td>\n",
       "      <td>0486</td>\n",
       "      <td>BATTERY</td>\n",
       "      <td>DOMESTIC BATTERY SIMPLE</td>\n",
       "      <td>STREET</td>\n",
       "      <td>False</td>\n",
       "      <td>True</td>\n",
       "      <td>133</td>\n",
       "      <td>1</td>\n",
       "      <td>3.00000</td>\n",
       "      <td>35.00000</td>\n",
       "      <td>08B</td>\n",
       "      <td>1176755.00000</td>\n",
       "      <td>1885570.00000</td>\n",
       "      <td>2018</td>\n",
       "      <td>05/24/2018 03:56:11 PM</td>\n",
       "      <td>41.84135</td>\n",
       "      <td>-87.62686</td>\n",
       "      <td>(41.841350479, -87.626860911)</td>\n",
       "    </tr>\n",
       "    <tr>\n",
       "      <th>14751</th>\n",
       "      <td>11206525</td>\n",
       "      <td>JB119586</td>\n",
       "      <td>01/17/2018 04:55:00 PM</td>\n",
       "      <td>025XX N CLYBOURN AVE</td>\n",
       "      <td>1330</td>\n",
       "      <td>CRIMINAL TRESPASS</td>\n",
       "      <td>TO LAND</td>\n",
       "      <td>SMALL RETAIL STORE</td>\n",
       "      <td>False</td>\n",
       "      <td>False</td>\n",
       "      <td>1931</td>\n",
       "      <td>19</td>\n",
       "      <td>32.00000</td>\n",
       "      <td>7.00000</td>\n",
       "      <td>26</td>\n",
       "      <td>1163883.00000</td>\n",
       "      <td>1917044.00000</td>\n",
       "      <td>2018</td>\n",
       "      <td>05/04/2018 03:51:04 PM</td>\n",
       "      <td>41.92800</td>\n",
       "      <td>-87.67321</td>\n",
       "      <td>(41.927998524, -87.673208159)</td>\n",
       "    </tr>\n",
       "    <tr>\n",
       "      <th>122620</th>\n",
       "      <td>11355707</td>\n",
       "      <td>JB317378</td>\n",
       "      <td>06/21/2018 10:00:00 PM</td>\n",
       "      <td>059XX N KENMORE AVE</td>\n",
       "      <td>1320</td>\n",
       "      <td>CRIMINAL DAMAGE</td>\n",
       "      <td>TO VEHICLE</td>\n",
       "      <td>OTHER</td>\n",
       "      <td>False</td>\n",
       "      <td>False</td>\n",
       "      <td>2433</td>\n",
       "      <td>24</td>\n",
       "      <td>48.00000</td>\n",
       "      <td>77.00000</td>\n",
       "      <td>14</td>\n",
       "      <td>1168161.00000</td>\n",
       "      <td>1939837.00000</td>\n",
       "      <td>2018</td>\n",
       "      <td>06/28/2018 03:59:19 PM</td>\n",
       "      <td>41.99045</td>\n",
       "      <td>-87.65683</td>\n",
       "      <td>(41.990451892, -87.656826951)</td>\n",
       "    </tr>\n",
       "    <tr>\n",
       "      <th>78133</th>\n",
       "      <td>11295665</td>\n",
       "      <td>JB236774</td>\n",
       "      <td>04/24/2018 09:45:00 PM</td>\n",
       "      <td>039XX N PARIS AVE</td>\n",
       "      <td>0486</td>\n",
       "      <td>BATTERY</td>\n",
       "      <td>DOMESTIC BATTERY SIMPLE</td>\n",
       "      <td>STREET</td>\n",
       "      <td>False</td>\n",
       "      <td>True</td>\n",
       "      <td>1631</td>\n",
       "      <td>16</td>\n",
       "      <td>36.00000</td>\n",
       "      <td>17.00000</td>\n",
       "      <td>08B</td>\n",
       "      <td>1121022.00000</td>\n",
       "      <td>1925162.00000</td>\n",
       "      <td>2018</td>\n",
       "      <td>05/04/2018 03:51:04 PM</td>\n",
       "      <td>41.95107</td>\n",
       "      <td>-87.83053</td>\n",
       "      <td>(41.951072859, -87.830534365)</td>\n",
       "    </tr>\n",
       "  </tbody>\n",
       "</table>\n",
       "</div>"
      ],
      "text/plain": [
       "              ID Case Number                    Date                 Block  \\\n",
       "28901   11226690    JB146279  02/09/2018 09:22:00 AM   053XX N WESTERN AVE   \n",
       "94529   11318002    JB267160  05/17/2018 11:15:00 AM      029XX S STATE ST   \n",
       "14751   11206525    JB119586  01/17/2018 04:55:00 PM  025XX N CLYBOURN AVE   \n",
       "122620  11355707    JB317378  06/21/2018 10:00:00 PM   059XX N KENMORE AVE   \n",
       "78133   11295665    JB236774  04/24/2018 09:45:00 PM     039XX N PARIS AVE   \n",
       "\n",
       "        IUCR       Primary Type              Description  \\\n",
       "28901   1563        SEX OFFENSE    CRIMINAL SEXUAL ABUSE   \n",
       "94529   0486            BATTERY  DOMESTIC BATTERY SIMPLE   \n",
       "14751   1330  CRIMINAL TRESPASS                  TO LAND   \n",
       "122620  1320    CRIMINAL DAMAGE               TO VEHICLE   \n",
       "78133   0486            BATTERY  DOMESTIC BATTERY SIMPLE   \n",
       "\n",
       "                Location Description  Arrest  Domestic  Beat  District  \\\n",
       "28901   NURSING HOME/RETIREMENT HOME    True     False  2011        20   \n",
       "94529                         STREET   False      True   133         1   \n",
       "14751             SMALL RETAIL STORE   False     False  1931        19   \n",
       "122620                         OTHER   False     False  2433        24   \n",
       "78133                         STREET   False      True  1631        16   \n",
       "\n",
       "           Ward  Community Area FBI Code  X Coordinate  Y Coordinate  Year  \\\n",
       "28901  40.00000         4.00000       17 1159379.00000 1935412.00000  2018   \n",
       "94529   3.00000        35.00000      08B 1176755.00000 1885570.00000  2018   \n",
       "14751  32.00000         7.00000       26 1163883.00000 1917044.00000  2018   \n",
       "122620 48.00000        77.00000       14 1168161.00000 1939837.00000  2018   \n",
       "78133  36.00000        17.00000      08B 1121022.00000 1925162.00000  2018   \n",
       "\n",
       "                    Updated On  Latitude  Longitude  \\\n",
       "28901   05/04/2018 03:51:04 PM  41.97850  -87.68925   \n",
       "94529   05/24/2018 03:56:11 PM  41.84135  -87.62686   \n",
       "14751   05/04/2018 03:51:04 PM  41.92800  -87.67321   \n",
       "122620  06/28/2018 03:59:19 PM  41.99045  -87.65683   \n",
       "78133   05/04/2018 03:51:04 PM  41.95107  -87.83053   \n",
       "\n",
       "                             Location  \n",
       "28901   (41.978495324, -87.689251423)  \n",
       "94529   (41.841350479, -87.626860911)  \n",
       "14751   (41.927998524, -87.673208159)  \n",
       "122620  (41.990451892, -87.656826951)  \n",
       "78133   (41.951072859, -87.830534365)  "
      ]
     },
     "execution_count": 57,
     "metadata": {},
     "output_type": "execute_result"
    }
   ],
   "source": [
    "\n",
    "data.head()"
   ]
  },
  {
   "cell_type": "code",
   "execution_count": 58,
   "metadata": {},
   "outputs": [
    {
     "data": {
      "text/plain": [
       "Index(['ID', 'Case Number', 'Date', 'Block', 'IUCR', 'Primary Type',\n",
       "       'Description', 'Location Description', 'Arrest', 'Domestic', 'Beat',\n",
       "       'District', 'Ward', 'Community Area', 'FBI Code', 'X Coordinate',\n",
       "       'Y Coordinate', 'Year', 'Updated On', 'Latitude', 'Longitude',\n",
       "       'Location'],\n",
       "      dtype='object')"
      ]
     },
     "execution_count": 58,
     "metadata": {},
     "output_type": "execute_result"
    }
   ],
   "source": [
    "data.columns"
   ]
  },
  {
   "cell_type": "code",
   "execution_count": 59,
   "metadata": {},
   "outputs": [],
   "source": [
    "# Pr Process data for k means clustering\n",
    "# remove or fill Null Values, in this case, and typically for Clustering, drop Null X ,y coorindates\n",
    "# inplace = True means the data_filtered data frame it's self is updated\n",
    "data_filtered.dropna(inplace=True)"
   ]
  },
  {
   "cell_type": "markdown",
   "metadata": {},
   "source": [
    "#### Cluster Model Pipelineing\n",
    "Cluster models need columns to be on the same scale,  Since lat is on -90-90 and long is on 0-180, then the data is rescaled\n",
    "\n",
    "\n",
    "The standard scaler and kmeans model are pipelined together, and then a Column transformer is used to ensure the correct lat and lon cols are being predicted with"
   ]
  },
  {
   "cell_type": "code",
   "execution_count": 60,
   "metadata": {},
   "outputs": [],
   "source": [
    "\n",
    "# create a list of lat lon columns\n",
    "lat_lon_cols = ['Latitude', 'Longitude']\n",
    "\n",
    "# remote columns where lat and lon are None\n",
    "data = data.dropna(subset=lat_lon_cols)\n",
    "\n",
    "# scale the data\n",
    "scaler = StandardScaler()\n",
    "data_scaled  = scaler.fit_transform(data[lat_lon_cols])\n",
    "\n",
    "# fit the kmeans model on the scaled data \n",
    "model = KMeans(n_clusters=5, random_state=10)\n",
    "model = model.fit(data_scaled )\n",
    "\n",
    "# create clusterin pipeline linking the scaler to the model\n",
    "steps = [('scale', scaler), ('model', model)]\n",
    "cluster_pipe = Pipeline(steps)\n",
    "\n",
    "# ad column selection to pipeline \n",
    "pipe = ColumnTransformer(transformers=[('cluster_pipe', cluster_pipe, lat_lon_cols)]).fit(data)\n"
   ]
  },
  {
   "cell_type": "markdown",
   "metadata": {},
   "source": [
    "##### Cluster Model Output\n",
    "THe output of the cluster model is essential a distance to each cluster..\n",
    "To get the cluster that a row was assigned to, the np.argmin function finds the cluster that is the closest."
   ]
  },
  {
   "cell_type": "code",
   "execution_count": 61,
   "metadata": {},
   "outputs": [
    {
     "data": {
      "text/plain": [
       "array([4, 1, 4, 4, 3, 3, 3, 4, 3, 4])"
      ]
     },
     "execution_count": 61,
     "metadata": {},
     "output_type": "execute_result"
    }
   ],
   "source": [
    "# to build the cluster model with k means, you need to import it from sklearn \n",
    "\n",
    "\n",
    "cluster_dist = pipe.transform(data)\n",
    "cluster_labels = np.argmin(cluster_dist, axis=1)\n",
    "\n",
    "cluster_labels[0:10]"
   ]
  },
  {
   "cell_type": "markdown",
   "metadata": {},
   "source": [
    "#### Basic Frequence Counts of clusters\n",
    "The following uses collections to count how many times each cluster appears\n"
   ]
  },
  {
   "cell_type": "code",
   "execution_count": 62,
   "metadata": {},
   "outputs": [
    {
     "data": {
      "text/html": [
       "<div>\n",
       "<style scoped>\n",
       "    .dataframe tbody tr th:only-of-type {\n",
       "        vertical-align: middle;\n",
       "    }\n",
       "\n",
       "    .dataframe tbody tr th {\n",
       "        vertical-align: top;\n",
       "    }\n",
       "\n",
       "    .dataframe thead th {\n",
       "        text-align: right;\n",
       "    }\n",
       "</style>\n",
       "<table border=\"1\" class=\"dataframe\">\n",
       "  <thead>\n",
       "    <tr style=\"text-align: right;\">\n",
       "      <th></th>\n",
       "      <th>counts</th>\n",
       "    </tr>\n",
       "  </thead>\n",
       "  <tbody>\n",
       "    <tr>\n",
       "      <th>4</th>\n",
       "      <td>1366</td>\n",
       "    </tr>\n",
       "    <tr>\n",
       "      <th>1</th>\n",
       "      <td>1940</td>\n",
       "    </tr>\n",
       "    <tr>\n",
       "      <th>3</th>\n",
       "      <td>2571</td>\n",
       "    </tr>\n",
       "    <tr>\n",
       "      <th>2</th>\n",
       "      <td>2188</td>\n",
       "    </tr>\n",
       "    <tr>\n",
       "      <th>0</th>\n",
       "      <td>1762</td>\n",
       "    </tr>\n",
       "  </tbody>\n",
       "</table>\n",
       "</div>"
      ],
      "text/plain": [
       "   counts\n",
       "4    1366\n",
       "1    1940\n",
       "3    2571\n",
       "2    2188\n",
       "0    1762"
      ]
     },
     "execution_count": 62,
     "metadata": {},
     "output_type": "execute_result"
    }
   ],
   "source": [
    "# create counts of labels \n",
    "## Create Cluster Labels based on frequency\n",
    "\n",
    "\n",
    "#\n",
    "counts = pd.DataFrame(pd.Series(Counter(cluster_labels)))\n",
    "counts.columns = ['counts']\n",
    "counts"
   ]
  },
  {
   "cell_type": "markdown",
   "metadata": {},
   "source": [
    "##### Extracting the Centers\n",
    "Getting the cluster centers, and totals of how many times they occure can be very informative.\n",
    "Here, the scaler inverse transform is used to get the centers back on a lat lon scale."
   ]
  },
  {
   "cell_type": "code",
   "execution_count": 63,
   "metadata": {},
   "outputs": [
    {
     "data": {
      "text/html": [
       "<div>\n",
       "<style scoped>\n",
       "    .dataframe tbody tr th:only-of-type {\n",
       "        vertical-align: middle;\n",
       "    }\n",
       "\n",
       "    .dataframe tbody tr th {\n",
       "        vertical-align: top;\n",
       "    }\n",
       "\n",
       "    .dataframe thead th {\n",
       "        text-align: right;\n",
       "    }\n",
       "</style>\n",
       "<table border=\"1\" class=\"dataframe\">\n",
       "  <thead>\n",
       "    <tr style=\"text-align: right;\">\n",
       "      <th></th>\n",
       "      <th>Latitude</th>\n",
       "      <th>Longitude</th>\n",
       "      <th>counts</th>\n",
       "    </tr>\n",
       "  </thead>\n",
       "  <tbody>\n",
       "    <tr>\n",
       "      <th>0</th>\n",
       "      <td>41.76872</td>\n",
       "      <td>-87.67674</td>\n",
       "      <td>1762</td>\n",
       "    </tr>\n",
       "    <tr>\n",
       "      <th>1</th>\n",
       "      <td>41.87719</td>\n",
       "      <td>-87.63951</td>\n",
       "      <td>1940</td>\n",
       "    </tr>\n",
       "    <tr>\n",
       "      <th>2</th>\n",
       "      <td>41.74326</td>\n",
       "      <td>-87.60098</td>\n",
       "      <td>2188</td>\n",
       "    </tr>\n",
       "    <tr>\n",
       "      <th>3</th>\n",
       "      <td>41.89874</td>\n",
       "      <td>-87.74326</td>\n",
       "      <td>2571</td>\n",
       "    </tr>\n",
       "    <tr>\n",
       "      <th>4</th>\n",
       "      <td>41.95959</td>\n",
       "      <td>-87.67726</td>\n",
       "      <td>1366</td>\n",
       "    </tr>\n",
       "  </tbody>\n",
       "</table>\n",
       "</div>"
      ],
      "text/plain": [
       "   Latitude  Longitude  counts\n",
       "0  41.76872  -87.67674    1762\n",
       "1  41.87719  -87.63951    1940\n",
       "2  41.74326  -87.60098    2188\n",
       "3  41.89874  -87.74326    2571\n",
       "4  41.95959  -87.67726    1366"
      ]
     },
     "execution_count": 63,
     "metadata": {},
     "output_type": "execute_result"
    }
   ],
   "source": [
    "### Get the coorindates of the clusters\n",
    "# get the model's centers \n",
    "centers = model.cluster_centers_\n",
    "\n",
    "# rescale the centers\n",
    "centers_rescaled = scaler.inverse_transform(centers)\n",
    "\n",
    "# create a data frame of results\n",
    "results = pd.DataFrame(centers_rescaled, columns =  ['Latitude','Longitude'], index=np.arange(model.n_clusters))\n",
    "\n",
    "# merge the counts back to the results,\n",
    "results = results.merge(counts, how='inner', left_index=True, right_index=True)\n",
    "results"
   ]
  },
  {
   "cell_type": "code",
   "execution_count": null,
   "metadata": {},
   "outputs": [],
   "source": []
  },
  {
   "cell_type": "code",
   "execution_count": 64,
   "metadata": {},
   "outputs": [],
   "source": [
    "## Create Cluster Labels based on frequency\n",
    "from collections import Counter\n",
    "counts = Counter(cluster_labels)\n",
    "\n"
   ]
  },
  {
   "cell_type": "code",
   "execution_count": 65,
   "metadata": {},
   "outputs": [
    {
     "data": {
      "image/png": "[encoded data removed]",
      "text/plain": [
       "<Figure size 720x720 with 1 Axes>"
      ]
     },
     "metadata": {
      "needs_background": "light"
     },
     "output_type": "display_data"
    }
   ],
   "source": [
    "# it always a good idea to plot the clusters\n",
    "from matplotlib import pyplot as plt\n",
    "x = data['Longitude']\n",
    "y = data['Latitude']\n",
    "colors = cluster_labels\n",
    "plt.figure(figsize=(10,10))\n",
    "plt.scatter(x, y,s =1, c=colors, alpha=.1)\n",
    "plt.scatter(results['Longitude'], results['Latitude'], c ='red',s =10 )\n",
    "\n",
    "\n",
    "plt.show()\n",
    "display()"
   ]
  },
  {
   "cell_type": "markdown",
   "metadata": {},
   "source": [
    "\n",
    "####  Choose number of clusters with silloute method\n",
    "resources:\n",
    "+ https://scikit-learn.org/stable/auto_examples/cluster/plot_kmeans_silhouette_analysis.html\n",
    "\n",
    "+ https://en.wikipedia.org/wiki/Silhouette_(clustering)\n",
    "    \n",
    "#### What are good Scores ?\n",
    "+ Scores range between -1 and 1\n",
    "+ Generally, a score should be positive, and it it's not, that sugggest the cluster boundaries may be arbitrary\n",
    "\n",
    "+ Score close to 1 imply that points within the each cluster similar to eachother, as well as each cluster is dissimlair to it's next nearest cluster.  Clusters with low or negative values\n",
    "\n",
    "https://scikit-learn.org/stable/auto_examples/cluster/plot_kmeans_silhouette_analysis.html\n"
   ]
  },
  {
   "cell_type": "code",
   "execution_count": 66,
   "metadata": {},
   "outputs": [
    {
     "data": {
      "image/png": "[encoded data removed]",
      "text/plain": [
       "<Figure size 432x288 with 1 Axes>"
      ]
     },
     "metadata": {
      "needs_background": "light"
     },
     "output_type": "display_data"
    }
   ],
   "source": [
    "\n",
    "from sklearn.metrics import silhouette_samples, silhouette_score\n",
    "from matplotlib.cm import get_cmap\n",
    "\n",
    "# between -1 and 1, higher number indicates you have good configurations, if you \n",
    "\n",
    "# create a scatter plot, with two of the columns of data, to see if there is any discrimination\n",
    "# Establish a color for each cluster\n",
    "cmap = ['red', 'blue',  'orange', 'yellow','purple']\n",
    "\n",
    "# get the cluster number which the model assignes each row to\n",
    "cluster_labels =  np.argmin(pipe.transform(data), axis=1)\n",
    "\n",
    "# get the s score for each row of data\n",
    "scores = silhouette_samples(data[lat_lon_cols], cluster_labels)\n",
    "\n",
    "# create a array of colors, based on the labels\n",
    "colors = [cmap[int(j)] for i, j in enumerate(cluster_labels)]\n",
    "\n",
    "# get the s score the the entire data set\n",
    "silhouette_score(data[lat_lon_cols], cluster_labels)\n",
    "\n",
    "# create a bar plot to show each silloute\n",
    "to_plot = pd.DataFrame({'scores':scores, 'labels':cluster_labels, 'colors': colors})\n",
    "to_plot.sort_values(['labels', 'scores'], inplace=True)\n",
    "\n",
    "plt.figure()\n",
    "plt.barh(range(to_plot.shape[0]), to_plot[ 'scores'], color=to_plot['colors'])\n",
    "plt.xlabel('sillioutte score')\n",
    "plt.ylabel('cluster')\n",
    "plt.title('Silloute plot')\n",
    "plt.show()\n"
   ]
  },
  {
   "cell_type": "code",
   "execution_count": null,
   "metadata": {},
   "outputs": [],
   "source": []
  },
  {
   "cell_type": "markdown",
   "metadata": {},
   "source": [
    "### Decribe Nieghbors by types of crimes tha happen in them.\n",
    "Objectives:\n",
    "+ reshape Data\n",
    "+ cluster by types of crimes\n",
    "+ explore sse within and between\n",
    "+ explore using silloute plots"
   ]
  },
  {
   "cell_type": "code",
   "execution_count": 67,
   "metadata": {},
   "outputs": [],
   "source": [
    "# pivot the data where ward is rows, columns are primary types values are counts \n",
    "data_pivoted = pd.pivot_table(data[['Ward','Primary Type']], index='Ward', columns=['Primary Type'], aggfunc=len, fill_value=0)"
   ]
  },
  {
   "cell_type": "code",
   "execution_count": 68,
   "metadata": {},
   "outputs": [
    {
     "data": {
      "text/html": [
       "<div>\n",
       "<style scoped>\n",
       "    .dataframe tbody tr th:only-of-type {\n",
       "        vertical-align: middle;\n",
       "    }\n",
       "\n",
       "    .dataframe tbody tr th {\n",
       "        vertical-align: top;\n",
       "    }\n",
       "\n",
       "    .dataframe thead th {\n",
       "        text-align: right;\n",
       "    }\n",
       "</style>\n",
       "<table border=\"1\" class=\"dataframe\">\n",
       "  <thead>\n",
       "    <tr style=\"text-align: right;\">\n",
       "      <th>Primary Type</th>\n",
       "      <th>ARSON</th>\n",
       "      <th>ASSAULT</th>\n",
       "      <th>BATTERY</th>\n",
       "      <th>BURGLARY</th>\n",
       "      <th>CONCEALED CARRY LICENSE VIOLATION</th>\n",
       "      <th>CRIM SEXUAL ASSAULT</th>\n",
       "      <th>CRIMINAL DAMAGE</th>\n",
       "      <th>CRIMINAL TRESPASS</th>\n",
       "      <th>DECEPTIVE PRACTICE</th>\n",
       "      <th>GAMBLING</th>\n",
       "      <th>HOMICIDE</th>\n",
       "      <th>INTERFERENCE WITH PUBLIC OFFICER</th>\n",
       "      <th>INTIMIDATION</th>\n",
       "      <th>KIDNAPPING</th>\n",
       "      <th>LIQUOR LAW VIOLATION</th>\n",
       "      <th>MOTOR VEHICLE THEFT</th>\n",
       "      <th>NARCOTICS</th>\n",
       "      <th>NON-CRIMINAL</th>\n",
       "      <th>OBSCENITY</th>\n",
       "      <th>OFFENSE INVOLVING CHILDREN</th>\n",
       "      <th>OTHER OFFENSE</th>\n",
       "      <th>PROSTITUTION</th>\n",
       "      <th>PUBLIC PEACE VIOLATION</th>\n",
       "      <th>ROBBERY</th>\n",
       "      <th>SEX OFFENSE</th>\n",
       "      <th>STALKING</th>\n",
       "      <th>THEFT</th>\n",
       "      <th>WEAPONS VIOLATION</th>\n",
       "    </tr>\n",
       "    <tr>\n",
       "      <th>Ward</th>\n",
       "      <th></th>\n",
       "      <th></th>\n",
       "      <th></th>\n",
       "      <th></th>\n",
       "      <th></th>\n",
       "      <th></th>\n",
       "      <th></th>\n",
       "      <th></th>\n",
       "      <th></th>\n",
       "      <th></th>\n",
       "      <th></th>\n",
       "      <th></th>\n",
       "      <th></th>\n",
       "      <th></th>\n",
       "      <th></th>\n",
       "      <th></th>\n",
       "      <th></th>\n",
       "      <th></th>\n",
       "      <th></th>\n",
       "      <th></th>\n",
       "      <th></th>\n",
       "      <th></th>\n",
       "      <th></th>\n",
       "      <th></th>\n",
       "      <th></th>\n",
       "      <th></th>\n",
       "      <th></th>\n",
       "      <th></th>\n",
       "    </tr>\n",
       "  </thead>\n",
       "  <tbody>\n",
       "    <tr>\n",
       "      <th>1.00000</th>\n",
       "      <td>0</td>\n",
       "      <td>17</td>\n",
       "      <td>19</td>\n",
       "      <td>4</td>\n",
       "      <td>0</td>\n",
       "      <td>2</td>\n",
       "      <td>14</td>\n",
       "      <td>2</td>\n",
       "      <td>8</td>\n",
       "      <td>0</td>\n",
       "      <td>0</td>\n",
       "      <td>0</td>\n",
       "      <td>1</td>\n",
       "      <td>0</td>\n",
       "      <td>0</td>\n",
       "      <td>8</td>\n",
       "      <td>1</td>\n",
       "      <td>0</td>\n",
       "      <td>1</td>\n",
       "      <td>1</td>\n",
       "      <td>9</td>\n",
       "      <td>0</td>\n",
       "      <td>2</td>\n",
       "      <td>8</td>\n",
       "      <td>0</td>\n",
       "      <td>0</td>\n",
       "      <td>81</td>\n",
       "      <td>2</td>\n",
       "    </tr>\n",
       "    <tr>\n",
       "      <th>2.00000</th>\n",
       "      <td>1</td>\n",
       "      <td>30</td>\n",
       "      <td>53</td>\n",
       "      <td>11</td>\n",
       "      <td>0</td>\n",
       "      <td>1</td>\n",
       "      <td>34</td>\n",
       "      <td>11</td>\n",
       "      <td>30</td>\n",
       "      <td>0</td>\n",
       "      <td>1</td>\n",
       "      <td>0</td>\n",
       "      <td>0</td>\n",
       "      <td>0</td>\n",
       "      <td>0</td>\n",
       "      <td>9</td>\n",
       "      <td>5</td>\n",
       "      <td>0</td>\n",
       "      <td>0</td>\n",
       "      <td>2</td>\n",
       "      <td>14</td>\n",
       "      <td>0</td>\n",
       "      <td>4</td>\n",
       "      <td>11</td>\n",
       "      <td>2</td>\n",
       "      <td>0</td>\n",
       "      <td>135</td>\n",
       "      <td>5</td>\n",
       "    </tr>\n",
       "    <tr>\n",
       "      <th>3.00000</th>\n",
       "      <td>0</td>\n",
       "      <td>20</td>\n",
       "      <td>70</td>\n",
       "      <td>6</td>\n",
       "      <td>0</td>\n",
       "      <td>3</td>\n",
       "      <td>28</td>\n",
       "      <td>5</td>\n",
       "      <td>19</td>\n",
       "      <td>0</td>\n",
       "      <td>0</td>\n",
       "      <td>1</td>\n",
       "      <td>0</td>\n",
       "      <td>0</td>\n",
       "      <td>0</td>\n",
       "      <td>8</td>\n",
       "      <td>12</td>\n",
       "      <td>0</td>\n",
       "      <td>0</td>\n",
       "      <td>1</td>\n",
       "      <td>13</td>\n",
       "      <td>1</td>\n",
       "      <td>0</td>\n",
       "      <td>6</td>\n",
       "      <td>0</td>\n",
       "      <td>0</td>\n",
       "      <td>46</td>\n",
       "      <td>3</td>\n",
       "    </tr>\n",
       "    <tr>\n",
       "      <th>4.00000</th>\n",
       "      <td>0</td>\n",
       "      <td>20</td>\n",
       "      <td>35</td>\n",
       "      <td>7</td>\n",
       "      <td>0</td>\n",
       "      <td>3</td>\n",
       "      <td>26</td>\n",
       "      <td>6</td>\n",
       "      <td>20</td>\n",
       "      <td>0</td>\n",
       "      <td>0</td>\n",
       "      <td>0</td>\n",
       "      <td>1</td>\n",
       "      <td>0</td>\n",
       "      <td>0</td>\n",
       "      <td>7</td>\n",
       "      <td>1</td>\n",
       "      <td>0</td>\n",
       "      <td>0</td>\n",
       "      <td>2</td>\n",
       "      <td>12</td>\n",
       "      <td>0</td>\n",
       "      <td>2</td>\n",
       "      <td>7</td>\n",
       "      <td>0</td>\n",
       "      <td>0</td>\n",
       "      <td>69</td>\n",
       "      <td>1</td>\n",
       "    </tr>\n",
       "    <tr>\n",
       "      <th>5.00000</th>\n",
       "      <td>0</td>\n",
       "      <td>22</td>\n",
       "      <td>36</td>\n",
       "      <td>17</td>\n",
       "      <td>0</td>\n",
       "      <td>0</td>\n",
       "      <td>28</td>\n",
       "      <td>3</td>\n",
       "      <td>18</td>\n",
       "      <td>0</td>\n",
       "      <td>1</td>\n",
       "      <td>0</td>\n",
       "      <td>0</td>\n",
       "      <td>0</td>\n",
       "      <td>0</td>\n",
       "      <td>11</td>\n",
       "      <td>7</td>\n",
       "      <td>0</td>\n",
       "      <td>0</td>\n",
       "      <td>3</td>\n",
       "      <td>23</td>\n",
       "      <td>0</td>\n",
       "      <td>0</td>\n",
       "      <td>11</td>\n",
       "      <td>0</td>\n",
       "      <td>1</td>\n",
       "      <td>47</td>\n",
       "      <td>4</td>\n",
       "    </tr>\n",
       "  </tbody>\n",
       "</table>\n",
       "</div>"
      ],
      "text/plain": [
       "Primary Type  ARSON  ASSAULT  BATTERY  BURGLARY  \\\n",
       "Ward                                              \n",
       "1.00000           0       17       19         4   \n",
       "2.00000           1       30       53        11   \n",
       "3.00000           0       20       70         6   \n",
       "4.00000           0       20       35         7   \n",
       "5.00000           0       22       36        17   \n",
       "\n",
       "Primary Type  CONCEALED CARRY LICENSE VIOLATION  CRIM SEXUAL ASSAULT  \\\n",
       "Ward                                                                   \n",
       "1.00000                                       0                    2   \n",
       "2.00000                                       0                    1   \n",
       "3.00000                                       0                    3   \n",
       "4.00000                                       0                    3   \n",
       "5.00000                                       0                    0   \n",
       "\n",
       "Primary Type  CRIMINAL DAMAGE  CRIMINAL TRESPASS  DECEPTIVE PRACTICE  \\\n",
       "Ward                                                                   \n",
       "1.00000                    14                  2                   8   \n",
       "2.00000                    34                 11                  30   \n",
       "3.00000                    28                  5                  19   \n",
       "4.00000                    26                  6                  20   \n",
       "5.00000                    28                  3                  18   \n",
       "\n",
       "Primary Type  GAMBLING  HOMICIDE  INTERFERENCE WITH PUBLIC OFFICER  \\\n",
       "Ward                                                                 \n",
       "1.00000              0         0                                 0   \n",
       "2.00000              0         1                                 0   \n",
       "3.00000              0         0                                 1   \n",
       "4.00000              0         0                                 0   \n",
       "5.00000              0         1                                 0   \n",
       "\n",
       "Primary Type  INTIMIDATION  KIDNAPPING  LIQUOR LAW VIOLATION  \\\n",
       "Ward                                                           \n",
       "1.00000                  1           0                     0   \n",
       "2.00000                  0           0                     0   \n",
       "3.00000                  0           0                     0   \n",
       "4.00000                  1           0                     0   \n",
       "5.00000                  0           0                     0   \n",
       "\n",
       "Primary Type  MOTOR VEHICLE THEFT  NARCOTICS  NON-CRIMINAL  OBSCENITY  \\\n",
       "Ward                                                                    \n",
       "1.00000                         8          1             0          1   \n",
       "2.00000                         9          5             0          0   \n",
       "3.00000                         8         12             0          0   \n",
       "4.00000                         7          1             0          0   \n",
       "5.00000                        11          7             0          0   \n",
       "\n",
       "Primary Type  OFFENSE INVOLVING CHILDREN  OTHER OFFENSE  PROSTITUTION  \\\n",
       "Ward                                                                    \n",
       "1.00000                                1              9             0   \n",
       "2.00000                                2             14             0   \n",
       "3.00000                                1             13             1   \n",
       "4.00000                                2             12             0   \n",
       "5.00000                                3             23             0   \n",
       "\n",
       "Primary Type  PUBLIC PEACE VIOLATION  ROBBERY  SEX OFFENSE  STALKING  THEFT  \\\n",
       "Ward                                                                          \n",
       "1.00000                            2        8            0         0     81   \n",
       "2.00000                            4       11            2         0    135   \n",
       "3.00000                            0        6            0         0     46   \n",
       "4.00000                            2        7            0         0     69   \n",
       "5.00000                            0       11            0         1     47   \n",
       "\n",
       "Primary Type  WEAPONS VIOLATION  \n",
       "Ward                             \n",
       "1.00000                       2  \n",
       "2.00000                       5  \n",
       "3.00000                       3  \n",
       "4.00000                       1  \n",
       "5.00000                       4  "
      ]
     },
     "execution_count": 68,
     "metadata": {},
     "output_type": "execute_result"
    }
   ],
   "source": [
    "data_pivoted.head()"
   ]
  },
  {
   "cell_type": "code",
   "execution_count": 69,
   "metadata": {},
   "outputs": [
    {
     "data": {
      "text/plain": [
       "(50, 28)"
      ]
     },
     "execution_count": 69,
     "metadata": {},
     "output_type": "execute_result"
    }
   ],
   "source": [
    "# scale the data \n",
    "ss = StandardScaler()\n",
    "data_pivoted_scaled = ss.fit_transform(data_pivoted)\n",
    "data_pivoted_scaled.shape"
   ]
  },
  {
   "cell_type": "code",
   "execution_count": 70,
   "metadata": {},
   "outputs": [
    {
     "data": {
      "text/plain": [
       "array([0, 1, 1, 1, 2, 2, 1, 2, 2, 0, 0, 0, 0, 0, 2, 1, 3, 0, 0, 1, 1, 0,\n",
       "       0, 3, 0, 0, 1, 1, 1, 0, 0, 0, 0, 2, 0, 0, 2, 0, 0, 0, 0, 4, 0, 0,\n",
       "       0, 0, 0, 0, 0, 0], dtype=int32)"
      ]
     },
     "execution_count": 70,
     "metadata": {},
     "output_type": "execute_result"
    }
   ],
   "source": [
    "# pick a low number of clusters since there are only 50 rows (wards)\n",
    "n_clusters = 5\n",
    "\n",
    "# init the model\n",
    "model_wards =  KMeans(n_clusters=n_clusters)\n",
    "# fit the model on the scaled data \n",
    "model_wards.fit(X=data_pivoted_scaled)\n",
    "# get the cluster distances \n",
    "cluster_labels = model_wards.predict(X=data_pivoted_scaled)\n",
    "cluster_labels"
   ]
  },
  {
   "cell_type": "code",
   "execution_count": 71,
   "metadata": {},
   "outputs": [
    {
     "data": {
      "text/plain": [
       "Text(0, 0.5, 'ROBBERY')"
      ]
     },
     "execution_count": 71,
     "metadata": {},
     "output_type": "execute_result"
    },
    {
     "data": {
      "image/png": "[encoded data removed]",
      "text/plain": [
       "<Figure size 432x288 with 1 Axes>"
      ]
     },
     "metadata": {
      "needs_background": "light"
     },
     "output_type": "display_data"
    }
   ],
   "source": [
    "# create a scatter plot, with two of the columns of data, to see if there is any discrimination\n",
    "# Establish a color for each cluster\n",
    "cmap = ['red', 'blue',  'orange', 'yellow','purple', 'green', 'black']\n",
    "# creates an array of colors for each point\n",
    "colors =  [cmap[int(j)] for i, j in enumerate(cluster_labels)]\n",
    "x_col = 'BURGLARY'\n",
    "y_col = 'ROBBERY'\n",
    "x = data_pivoted[x_col]\n",
    "y = data_pivoted[y_col]\n",
    "plt.figure()\n",
    "plt.scatter(x, y,s =100, color=colors, alpha=1, label=colors)\n",
    "plt.xlabel(x_col)\n",
    "plt.ylabel(y_col)\n",
    "\n",
    "\n"
   ]
  },
  {
   "cell_type": "code",
   "execution_count": 72,
   "metadata": {},
   "outputs": [
    {
     "data": {
      "text/plain": [
       "Counter({0: 30, 1: 10, 2: 7, 3: 2, 4: 1})"
      ]
     },
     "execution_count": 72,
     "metadata": {},
     "output_type": "execute_result"
    }
   ],
   "source": [
    "# get the cluster counts\n",
    "from collections import Counter\n",
    "Counter(cluster_labels)\n"
   ]
  },
  {
   "cell_type": "code",
   "execution_count": 73,
   "metadata": {},
   "outputs": [
    {
     "data": {
      "image/png": "[encoded data removed]",
      "text/plain": [
       "<Figure size 432x288 with 1 Axes>"
      ]
     },
     "metadata": {
      "needs_background": "light"
     },
     "output_type": "display_data"
    }
   ],
   "source": [
    "\n",
    "from sklearn.metrics import silhouette_samples, silhouette_score\n",
    "from matplotlib.cm import get_cmap\n",
    "\n",
    "# between -1 and 1, higher number indicates you have good configurations, if you \n",
    "\n",
    "\n",
    "# get the s score for each row of data\n",
    "scores = silhouette_samples(data_pivoted_scaled, cluster_labels)\n",
    "# get the cluster number which the model assignes each row to\n",
    "labels =  model_wards.predict(data_pivoted_scaled)\n",
    "# create a array of colors, based on the labels\n",
    "colors = [cmap[int(j)] for i, j in enumerate(labels)]\n",
    "\n",
    "# get the s score the the entire data set\n",
    "silhouette_score(data_pivoted_scaled, cluster_labels)\n",
    "\n",
    "# create a bar plot to show each silloute\n",
    "to_plot = pd.DataFrame({'scores':scores, 'labels':labels, 'colors': colors})\n",
    "to_plot.sort_values(['labels', 'scores'], inplace=True)\n",
    "\n",
    "plt.figure()\n",
    "plt.barh(range(to_plot.shape[0]), to_plot[ 'scores'], color=to_plot['colors'])\n",
    "plt.xlabel('sillioutte score')\n",
    "plt.ylabel('cluster')\n",
    "plt.title('Silloute plot')\n",
    "plt.show()\n"
   ]
  },
  {
   "cell_type": "markdown",
   "metadata": {},
   "source": [
    "\n",
    "\n",
    "## Use loops to get the best silloute scores \n",
    "since we don't know exactly how many clusters to choose, an approach is to loop through different number of cluster sizes and calcuate the silhouette scores, and find the point at which adding a cluster shows little improvement.\n"
   ]
  },
  {
   "cell_type": "code",
   "execution_count": 74,
   "metadata": {},
   "outputs": [],
   "source": [
    "scores = []\n",
    "# create a list of number of clusters to try\n",
    "cluster_list = list(range(3, 10, 1))\n",
    "\n",
    "# loop through each element of the list, building a cluster model with that elements number of centers\n",
    "for i,j in enumerate(cluster_list):\n",
    "    n_clusters = j\n",
    "    model_temp =  KMeans(n_clusters=n_clusters)\n",
    "    model_temp.fit(X=data_pivoted_scaled)\n",
    "    cluster_labels = model_temp.predict(data_pivoted_scaled)\n",
    "    scores.append(silhouette_score(data_pivoted_scaled, cluster_labels))\n",
    "    \n",
    "    \n"
   ]
  },
  {
   "cell_type": "code",
   "execution_count": 75,
   "metadata": {},
   "outputs": [
    {
     "name": "stdout",
     "output_type": "stream",
     "text": [
      "[0.2766139937552932, 0.23688413415330953, 0.21431581012890177, 0.20856691484483247, 0.22658589823790812, 0.2580913182910398, 0.21428213707332397]\n",
      "[3, 4, 5, 6, 7, 8, 9]\n"
     ]
    }
   ],
   "source": [
    "print(scores)\n",
    "print(cluster_list)"
   ]
  },
  {
   "cell_type": "code",
   "execution_count": 76,
   "metadata": {},
   "outputs": [
    {
     "data": {
      "image/png": "[encoded data removed]",
      "text/plain": [
       "<Figure size 432x288 with 1 Axes>"
      ]
     },
     "metadata": {
      "needs_background": "light"
     },
     "output_type": "display_data"
    }
   ],
   "source": [
    "# create a line plot of number of\n",
    "plt.figure()\n",
    "plt.plot(cluster_list, scores)\n",
    "plt.ylabel('sillioutte score')\n",
    "plt.xlabel('number of cluster centers')\n",
    "plt.show()\n"
   ]
  },
  {
   "cell_type": "markdown",
   "metadata": {},
   "source": [
    "## Name the Centers\n",
    "looking at each cluster center indivually, names for each cetner can be obtained.\n"
   ]
  },
  {
   "cell_type": "code",
   "execution_count": 77,
   "metadata": {},
   "outputs": [
    {
     "name": "stdout",
     "output_type": "stream",
     "text": [
      "Primary Type    ARSON  ASSAULT  BATTERY  BURGLARY  \\\n",
      "0            -0.11594 -0.71124 -0.68818  -0.36475   \n",
      "1             0.39130  0.97386  1.09689   0.23575   \n",
      "2            -0.47826  0.94728  0.47896   1.18892   \n",
      "3             1.69565  2.05713  2.31614   0.79177   \n",
      "4            -0.47826  0.85349  1.69144  -1.32110   \n",
      "\n",
      "Primary Type  CONCEALED CARRY LICENSE VIOLATION  CRIM SEXUAL ASSAULT  \\\n",
      "0                                      -0.20412             -0.40599   \n",
      "1                                      -0.20412              1.30600   \n",
      "2                                       1.25391             -0.23479   \n",
      "3                                      -0.20412              0.13207   \n",
      "4                                      -0.20412              0.49892   \n",
      "\n",
      "Primary Type  CRIMINAL DAMAGE  CRIMINAL TRESPASS  DECEPTIVE PRACTICE  \\\n",
      "0                    -0.69346           -0.38358            -0.28678   \n",
      "1                     1.06039            0.22630             0.29042   \n",
      "2                     0.72568            0.44296            -0.05763   \n",
      "3                     2.26216            0.92445            -0.21387   \n",
      "4                     0.59584            4.29482             6.53028   \n",
      "\n",
      "Primary Type  GAMBLING  HOMICIDE  INTERFERENCE WITH PUBLIC OFFICER  \\\n",
      "0             -0.23828  -0.37582                          -0.43900   \n",
      "1              0.58080  -0.07274                           0.00000   \n",
      "2             -0.31274   1.12226                           1.22294   \n",
      "3              1.92110   2.29129                           2.63402   \n",
      "4             -0.31274  -0.43644                          -0.65850   \n",
      "\n",
      "Primary Type  INTIMIDATION  KIDNAPPING  LIQUOR LAW VIOLATION  \\\n",
      "0                 -0.11229    -0.03402               0.05957   \n",
      "1                  0.16843     0.30619               0.13403   \n",
      "2                 -0.25265    -0.20412              -0.31274   \n",
      "3                 -0.25265    -0.20412              -0.31274   \n",
      "4                  3.95811    -0.20412              -0.31274   \n",
      "\n",
      "Primary Type  MOTOR VEHICLE THEFT  NARCOTICS  NON-CRIMINAL  OBSCENITY  \\\n",
      "0                        -0.51628   -0.41683       0.09524   -0.10774   \n",
      "1                         0.37873    0.76033      -0.14286    0.50793   \n",
      "2                         1.06109    0.09502      -0.14286   -0.08575   \n",
      "3                         1.70711    2.22695      -0.14286   -0.41558   \n",
      "4                         0.85921   -0.21742      -0.14286   -0.41558   \n",
      "\n",
      "Primary Type  OFFENSE INVOLVING CHILDREN  OTHER OFFENSE  PROSTITUTION  \\\n",
      "0                               -0.32036       -0.68569      -0.07861   \n",
      "1                                0.26211        0.69395       0.11792   \n",
      "2                                1.03180        1.36666      -0.09265   \n",
      "3                                0.40773        1.74728       1.10058   \n",
      "4                               -1.04844        0.57003      -0.37341   \n",
      "\n",
      "Primary Type  PUBLIC PEACE VIOLATION  ROBBERY  SEX OFFENSE  STALKING    THEFT  \\\n",
      "0                           -0.41184 -0.55113     -0.05863  -0.22222 -0.28067   \n",
      "1                            0.97879  0.82669     -0.02198  -0.00000  0.28039   \n",
      "2                           -0.29341  0.25356     -0.27324   0.61905 -0.11207   \n",
      "3                            1.13925  1.93604      0.19786  -0.33333  0.11879   \n",
      "4                            2.34268  2.61988      3.49556   3.00000  6.16310   \n",
      "\n",
      "Primary Type  WEAPONS VIOLATION  \n",
      "0                      -0.48685  \n",
      "1                       0.33940  \n",
      "2                       0.60362  \n",
      "3                       3.69524  \n",
      "4                      -0.40423  \n"
     ]
    }
   ],
   "source": [
    "pd.options.display.max_columns = 100\n",
    "centers = pd.DataFrame(model_wards.cluster_centers_, columns = data_pivoted.columns)\n",
    "\n",
    "print(centers)"
   ]
  },
  {
   "cell_type": "code",
   "execution_count": null,
   "metadata": {},
   "outputs": [],
   "source": []
  }
 ],
 "metadata": {
  "kernelspec": {
   "display_name": "Python 3",
   "language": "python",
   "name": "python3"
  },
  "language_info": {
   "codemirror_mode": {
    "name": "ipython",
    "version": 3
   },
   "file_extension": ".py",
   "mimetype": "text/x-python",
   "name": "python",
   "nbconvert_exporter": "python",
   "pygments_lexer": "ipython3",
   "version": "3.6.9"
  }
 },
 "nbformat": 4,
 "nbformat_minor": 1
}
