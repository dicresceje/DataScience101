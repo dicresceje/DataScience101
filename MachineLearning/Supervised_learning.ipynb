{
 "cells": [
  {
   "cell_type": "markdown",
   "metadata": {
    "collapsed": true
   },
   "source": [
    "## Introduction to Supervised Machine Learning\n",
    "Types of Models\n",
    "####  Supervised:\n",
    "Supervised learning is where you have input variables (x) and an output variable (Y) and you use an algorithm to learn the mapping function from the input to the output.\n",
    "\n",
    "Y = f(X)\n",
    "\n",
    "    Regression: predict a continuous variable, IE: predict commute time to work\n",
    "        linear models\n",
    "        NNet\n",
    "        tree based models\n",
    "        Nearest Neighbors\n",
    "\n",
    "    Classification: predict a category, IE: predict whether a bank will default yes or no\n",
    "        Logicistic Regression\n",
    "        SVM\n",
    "        NNnet\n",
    "        trees\n",
    "        Nearest Neighbors\n",
    "        Rule Based Learners\n",
    "\n",
    "#### Unsupervised\n",
    "\n",
    "labels are unknown, and natural patterns are used to determine labels\n",
    "\n",
    "    Clustering:\n",
    "        Kmeans\n",
    "        Hierarical Clustering\n",
    "        Density Based Clustering\n",
    "        NNets Autoencoders and Generatoaros\n",
    "        Association Learning / Market Basket Analysis\n",
    "        Apriori association learning\n",
    "        NNets\n",
    "\n",
    "\n",
    "#### Advantages \n",
    "+ interprable (when small)\n",
    "+ fast (may run on large data sets)\n",
    "\n",
    "#### Disadvantages\n",
    "\n",
    "+ Sharp boundaries\n",
    "+ Need enhancments such as ensembling to increase predictive power.\n",
    "+ Global Feature Importance is difficult to estimate\n"
   ]
  },
  {
   "cell_type": "markdown",
   "metadata": {},
   "source": [
    "### How Trees Work\n",
    "+ find break points for each continous variable \n",
    "+ Calculated Entropy of every variable\n",
    "+ Split on the variable that has the highest information gain\n",
    "+ recurisivly repeate for each branch\n",
    "\n",
    "https://www.analyticsvidhya.com/blog/2016/04/complete-tutorial-tree-based-modeling-scratch-in-python/\n",
    "\n",
    "https://towardsdatascience.com/entropy-how-decision-trees-make-decisions-2946b9c18c8\n"
   ]
  },
  {
   "cell_type": "markdown",
   "metadata": {},
   "source": [
    "### Home \n",
    "run on you local machine\n",
    "examples in: \n",
    "\n",
    "\n",
    "https://scikit-learn.org/stable/modules/tree.html\n"
   ]
  }
 ],
 "metadata": {
  "kernelspec": {
   "display_name": "Python 3",
   "language": "python",
   "name": "python3"
  },
  "language_info": {
   "codemirror_mode": {
    "name": "ipython",
    "version": 3
   },
   "file_extension": ".py",
   "mimetype": "text/x-python",
   "name": "python",
   "nbconvert_exporter": "python",
   "pygments_lexer": "ipython3",
   "version": "3.6.9"
  }
 },
 "nbformat": 4,
 "nbformat_minor": 1
}
